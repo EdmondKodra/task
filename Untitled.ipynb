{
 "cells": [
  {
   "cell_type": "code",
   "execution_count": 1,
   "id": "ceee590c-4000-4bf8-af6c-4e8428700bef",
   "metadata": {},
   "outputs": [],
   "source": [
    "import pandas as pd\n",
    "df = pd.read_csv(\"IMDB Dataset.csv\")"
   ]
  },
  {
   "cell_type": "code",
   "execution_count": 2,
   "id": "f6e22c5f-23f2-43ab-bccb-d1fcff73840b",
   "metadata": {},
   "outputs": [
    {
     "name": "stdout",
     "output_type": "stream",
     "text": [
      "                                              review sentiment\n",
      "0  One of the other reviewers has mentioned that ...  positive\n",
      "1  A wonderful little production. <br /><br />The...  positive\n",
      "2  I thought this was a wonderful way to spend ti...  positive\n",
      "3  Basically there's a family where a little boy ...  negative\n",
      "4  Petter Mattei's \"Love in the Time of Money\" is...  positive\n"
     ]
    }
   ],
   "source": [
    "print(df.head())"
   ]
  },
  {
   "cell_type": "code",
   "execution_count": 4,
   "id": "4f5e5ebc-5339-4d06-8a95-d68753bf3712",
   "metadata": {},
   "outputs": [
    {
     "name": "stdout",
     "output_type": "stream",
     "text": [
      "(50000, 2)\n"
     ]
    }
   ],
   "source": [
    "print(df.shape)"
   ]
  },
  {
   "cell_type": "code",
   "execution_count": 5,
   "id": "f7f14746-d02a-4559-8ee3-69225f3e8d37",
   "metadata": {},
   "outputs": [],
   "source": [
    "df = df.drop_duplicates()"
   ]
  },
  {
   "cell_type": "code",
   "execution_count": 6,
   "id": "f02da6d1-25fb-445d-9724-693b47a27d86",
   "metadata": {},
   "outputs": [
    {
     "name": "stdout",
     "output_type": "stream",
     "text": [
      "(49582, 2)\n"
     ]
    }
   ],
   "source": [
    "print(df.shape)"
   ]
  },
  {
   "cell_type": "code",
   "execution_count": 7,
   "id": "9f1ff20a-39d3-4f32-80dc-368332553b08",
   "metadata": {},
   "outputs": [],
   "source": [
    "df['cleaned_review'] = df['review'].str.replace(r'<br\\s*/?>', ' ', regex=True)"
   ]
  },
  {
   "cell_type": "code",
   "execution_count": 8,
   "id": "25819412-869f-430d-bef3-a1b9a246f433",
   "metadata": {},
   "outputs": [
    {
     "data": {
      "text/html": [
       "<div>\n",
       "<style scoped>\n",
       "    .dataframe tbody tr th:only-of-type {\n",
       "        vertical-align: middle;\n",
       "    }\n",
       "\n",
       "    .dataframe tbody tr th {\n",
       "        vertical-align: top;\n",
       "    }\n",
       "\n",
       "    .dataframe thead th {\n",
       "        text-align: right;\n",
       "    }\n",
       "</style>\n",
       "<table border=\"1\" class=\"dataframe\">\n",
       "  <thead>\n",
       "    <tr style=\"text-align: right;\">\n",
       "      <th></th>\n",
       "      <th>review</th>\n",
       "      <th>cleaned_review</th>\n",
       "    </tr>\n",
       "  </thead>\n",
       "  <tbody>\n",
       "    <tr>\n",
       "      <th>0</th>\n",
       "      <td>One of the other reviewers has mentioned that ...</td>\n",
       "      <td>One of the other reviewers has mentioned that ...</td>\n",
       "    </tr>\n",
       "    <tr>\n",
       "      <th>1</th>\n",
       "      <td>A wonderful little production. &lt;br /&gt;&lt;br /&gt;The...</td>\n",
       "      <td>A wonderful little production.   The filming t...</td>\n",
       "    </tr>\n",
       "    <tr>\n",
       "      <th>2</th>\n",
       "      <td>I thought this was a wonderful way to spend ti...</td>\n",
       "      <td>I thought this was a wonderful way to spend ti...</td>\n",
       "    </tr>\n",
       "    <tr>\n",
       "      <th>3</th>\n",
       "      <td>Basically there's a family where a little boy ...</td>\n",
       "      <td>Basically there's a family where a little boy ...</td>\n",
       "    </tr>\n",
       "    <tr>\n",
       "      <th>4</th>\n",
       "      <td>Petter Mattei's \"Love in the Time of Money\" is...</td>\n",
       "      <td>Petter Mattei's \"Love in the Time of Money\" is...</td>\n",
       "    </tr>\n",
       "  </tbody>\n",
       "</table>\n",
       "</div>"
      ],
      "text/plain": [
       "                                              review  \\\n",
       "0  One of the other reviewers has mentioned that ...   \n",
       "1  A wonderful little production. <br /><br />The...   \n",
       "2  I thought this was a wonderful way to spend ti...   \n",
       "3  Basically there's a family where a little boy ...   \n",
       "4  Petter Mattei's \"Love in the Time of Money\" is...   \n",
       "\n",
       "                                      cleaned_review  \n",
       "0  One of the other reviewers has mentioned that ...  \n",
       "1  A wonderful little production.   The filming t...  \n",
       "2  I thought this was a wonderful way to spend ti...  \n",
       "3  Basically there's a family where a little boy ...  \n",
       "4  Petter Mattei's \"Love in the Time of Money\" is...  "
      ]
     },
     "execution_count": 8,
     "metadata": {},
     "output_type": "execute_result"
    }
   ],
   "source": [
    "df[['review', 'cleaned_review']].head(5)"
   ]
  },
  {
   "cell_type": "code",
   "execution_count": 9,
   "id": "d0df38b0-85f9-44af-b1fe-a5dc70c66e3c",
   "metadata": {},
   "outputs": [],
   "source": [
    "df['cleaned_review'] = df['cleaned_review'].str.replace(r'[\\(\\)\\[\\]\\{\\}\\*#%@]+|[-_]{2,}', '', regex=True)"
   ]
  },
  {
   "cell_type": "code",
   "execution_count": 10,
   "id": "6c60108a-150a-4c65-9899-8c92e92b6d6a",
   "metadata": {},
   "outputs": [
    {
     "data": {
      "text/html": [
       "<div>\n",
       "<style scoped>\n",
       "    .dataframe tbody tr th:only-of-type {\n",
       "        vertical-align: middle;\n",
       "    }\n",
       "\n",
       "    .dataframe tbody tr th {\n",
       "        vertical-align: top;\n",
       "    }\n",
       "\n",
       "    .dataframe thead th {\n",
       "        text-align: right;\n",
       "    }\n",
       "</style>\n",
       "<table border=\"1\" class=\"dataframe\">\n",
       "  <thead>\n",
       "    <tr style=\"text-align: right;\">\n",
       "      <th></th>\n",
       "      <th>review</th>\n",
       "      <th>cleaned_review</th>\n",
       "    </tr>\n",
       "  </thead>\n",
       "  <tbody>\n",
       "    <tr>\n",
       "      <th>0</th>\n",
       "      <td>One of the other reviewers has mentioned that ...</td>\n",
       "      <td>One of the other reviewers has mentioned that ...</td>\n",
       "    </tr>\n",
       "    <tr>\n",
       "      <th>1</th>\n",
       "      <td>A wonderful little production. &lt;br /&gt;&lt;br /&gt;The...</td>\n",
       "      <td>A wonderful little production.   The filming t...</td>\n",
       "    </tr>\n",
       "    <tr>\n",
       "      <th>2</th>\n",
       "      <td>I thought this was a wonderful way to spend ti...</td>\n",
       "      <td>I thought this was a wonderful way to spend ti...</td>\n",
       "    </tr>\n",
       "    <tr>\n",
       "      <th>3</th>\n",
       "      <td>Basically there's a family where a little boy ...</td>\n",
       "      <td>Basically there's a family where a little boy ...</td>\n",
       "    </tr>\n",
       "    <tr>\n",
       "      <th>4</th>\n",
       "      <td>Petter Mattei's \"Love in the Time of Money\" is...</td>\n",
       "      <td>Petter Mattei's \"Love in the Time of Money\" is...</td>\n",
       "    </tr>\n",
       "  </tbody>\n",
       "</table>\n",
       "</div>"
      ],
      "text/plain": [
       "                                              review  \\\n",
       "0  One of the other reviewers has mentioned that ...   \n",
       "1  A wonderful little production. <br /><br />The...   \n",
       "2  I thought this was a wonderful way to spend ti...   \n",
       "3  Basically there's a family where a little boy ...   \n",
       "4  Petter Mattei's \"Love in the Time of Money\" is...   \n",
       "\n",
       "                                      cleaned_review  \n",
       "0  One of the other reviewers has mentioned that ...  \n",
       "1  A wonderful little production.   The filming t...  \n",
       "2  I thought this was a wonderful way to spend ti...  \n",
       "3  Basically there's a family where a little boy ...  \n",
       "4  Petter Mattei's \"Love in the Time of Money\" is...  "
      ]
     },
     "execution_count": 10,
     "metadata": {},
     "output_type": "execute_result"
    }
   ],
   "source": [
    "df[['review', 'cleaned_review']].head(5)"
   ]
  },
  {
   "cell_type": "code",
   "execution_count": 11,
   "id": "bc602272-d60a-4c51-9761-526eab597b0f",
   "metadata": {},
   "outputs": [],
   "source": [
    "df['cleaned_review'] = df['cleaned_review'].str.strip()\n",
    "df['cleaned_review'] = df['cleaned_review'].str.replace(r'\\s+', ' ', regex=True)"
   ]
  },
  {
   "cell_type": "code",
   "execution_count": 12,
   "id": "a78dd98e-5f5f-4114-9bc4-946f9069ed57",
   "metadata": {},
   "outputs": [
    {
     "data": {
      "text/html": [
       "<div>\n",
       "<style scoped>\n",
       "    .dataframe tbody tr th:only-of-type {\n",
       "        vertical-align: middle;\n",
       "    }\n",
       "\n",
       "    .dataframe tbody tr th {\n",
       "        vertical-align: top;\n",
       "    }\n",
       "\n",
       "    .dataframe thead th {\n",
       "        text-align: right;\n",
       "    }\n",
       "</style>\n",
       "<table border=\"1\" class=\"dataframe\">\n",
       "  <thead>\n",
       "    <tr style=\"text-align: right;\">\n",
       "      <th></th>\n",
       "      <th>review</th>\n",
       "      <th>cleaned_review</th>\n",
       "    </tr>\n",
       "  </thead>\n",
       "  <tbody>\n",
       "    <tr>\n",
       "      <th>0</th>\n",
       "      <td>One of the other reviewers has mentioned that ...</td>\n",
       "      <td>One of the other reviewers has mentioned that ...</td>\n",
       "    </tr>\n",
       "    <tr>\n",
       "      <th>1</th>\n",
       "      <td>A wonderful little production. &lt;br /&gt;&lt;br /&gt;The...</td>\n",
       "      <td>A wonderful little production. The filming tec...</td>\n",
       "    </tr>\n",
       "    <tr>\n",
       "      <th>2</th>\n",
       "      <td>I thought this was a wonderful way to spend ti...</td>\n",
       "      <td>I thought this was a wonderful way to spend ti...</td>\n",
       "    </tr>\n",
       "    <tr>\n",
       "      <th>3</th>\n",
       "      <td>Basically there's a family where a little boy ...</td>\n",
       "      <td>Basically there's a family where a little boy ...</td>\n",
       "    </tr>\n",
       "    <tr>\n",
       "      <th>4</th>\n",
       "      <td>Petter Mattei's \"Love in the Time of Money\" is...</td>\n",
       "      <td>Petter Mattei's \"Love in the Time of Money\" is...</td>\n",
       "    </tr>\n",
       "  </tbody>\n",
       "</table>\n",
       "</div>"
      ],
      "text/plain": [
       "                                              review  \\\n",
       "0  One of the other reviewers has mentioned that ...   \n",
       "1  A wonderful little production. <br /><br />The...   \n",
       "2  I thought this was a wonderful way to spend ti...   \n",
       "3  Basically there's a family where a little boy ...   \n",
       "4  Petter Mattei's \"Love in the Time of Money\" is...   \n",
       "\n",
       "                                      cleaned_review  \n",
       "0  One of the other reviewers has mentioned that ...  \n",
       "1  A wonderful little production. The filming tec...  \n",
       "2  I thought this was a wonderful way to spend ti...  \n",
       "3  Basically there's a family where a little boy ...  \n",
       "4  Petter Mattei's \"Love in the Time of Money\" is...  "
      ]
     },
     "execution_count": 12,
     "metadata": {},
     "output_type": "execute_result"
    }
   ],
   "source": [
    "df[['review', 'cleaned_review']].head(5)"
   ]
  },
  {
   "cell_type": "code",
   "execution_count": 13,
   "id": "a858ac1f-c453-4b0a-81a1-912e2bda5ef8",
   "metadata": {},
   "outputs": [],
   "source": [
    "df['cleaned_review'] = df['cleaned_review'].str.lower()"
   ]
  },
  {
   "cell_type": "code",
   "execution_count": 14,
   "id": "e8197a2b-667a-4304-af58-39aa8b4b864d",
   "metadata": {},
   "outputs": [
    {
     "data": {
      "text/html": [
       "<div>\n",
       "<style scoped>\n",
       "    .dataframe tbody tr th:only-of-type {\n",
       "        vertical-align: middle;\n",
       "    }\n",
       "\n",
       "    .dataframe tbody tr th {\n",
       "        vertical-align: top;\n",
       "    }\n",
       "\n",
       "    .dataframe thead th {\n",
       "        text-align: right;\n",
       "    }\n",
       "</style>\n",
       "<table border=\"1\" class=\"dataframe\">\n",
       "  <thead>\n",
       "    <tr style=\"text-align: right;\">\n",
       "      <th></th>\n",
       "      <th>review</th>\n",
       "      <th>cleaned_review</th>\n",
       "    </tr>\n",
       "  </thead>\n",
       "  <tbody>\n",
       "    <tr>\n",
       "      <th>0</th>\n",
       "      <td>One of the other reviewers has mentioned that ...</td>\n",
       "      <td>one of the other reviewers has mentioned that ...</td>\n",
       "    </tr>\n",
       "    <tr>\n",
       "      <th>1</th>\n",
       "      <td>A wonderful little production. &lt;br /&gt;&lt;br /&gt;The...</td>\n",
       "      <td>a wonderful little production. the filming tec...</td>\n",
       "    </tr>\n",
       "    <tr>\n",
       "      <th>2</th>\n",
       "      <td>I thought this was a wonderful way to spend ti...</td>\n",
       "      <td>i thought this was a wonderful way to spend ti...</td>\n",
       "    </tr>\n",
       "    <tr>\n",
       "      <th>3</th>\n",
       "      <td>Basically there's a family where a little boy ...</td>\n",
       "      <td>basically there's a family where a little boy ...</td>\n",
       "    </tr>\n",
       "    <tr>\n",
       "      <th>4</th>\n",
       "      <td>Petter Mattei's \"Love in the Time of Money\" is...</td>\n",
       "      <td>petter mattei's \"love in the time of money\" is...</td>\n",
       "    </tr>\n",
       "  </tbody>\n",
       "</table>\n",
       "</div>"
      ],
      "text/plain": [
       "                                              review  \\\n",
       "0  One of the other reviewers has mentioned that ...   \n",
       "1  A wonderful little production. <br /><br />The...   \n",
       "2  I thought this was a wonderful way to spend ti...   \n",
       "3  Basically there's a family where a little boy ...   \n",
       "4  Petter Mattei's \"Love in the Time of Money\" is...   \n",
       "\n",
       "                                      cleaned_review  \n",
       "0  one of the other reviewers has mentioned that ...  \n",
       "1  a wonderful little production. the filming tec...  \n",
       "2  i thought this was a wonderful way to spend ti...  \n",
       "3  basically there's a family where a little boy ...  \n",
       "4  petter mattei's \"love in the time of money\" is...  "
      ]
     },
     "execution_count": 14,
     "metadata": {},
     "output_type": "execute_result"
    }
   ],
   "source": [
    "df[['review', 'cleaned_review']].head(5)"
   ]
  },
  {
   "cell_type": "code",
   "execution_count": 15,
   "id": "10ff8c04-e835-4759-aaaa-f1f98a809cfc",
   "metadata": {},
   "outputs": [],
   "source": [
    "from sklearn.feature_extraction.text import ENGLISH_STOP_WORDS\n",
    "def remove_stopwords(text):\n",
    "    return ' '.join([word for word in text.split() if word not in ENGLISH_STOP_WORDS])\n",
    "df['cleaned_review'] = df['cleaned_review'].apply(remove_stopwords)"
   ]
  },
  {
   "cell_type": "code",
   "execution_count": 16,
   "id": "3e44c0db-dd7c-43f0-85c3-7975e1937835",
   "metadata": {},
   "outputs": [
    {
     "data": {
      "text/html": [
       "<div>\n",
       "<style scoped>\n",
       "    .dataframe tbody tr th:only-of-type {\n",
       "        vertical-align: middle;\n",
       "    }\n",
       "\n",
       "    .dataframe tbody tr th {\n",
       "        vertical-align: top;\n",
       "    }\n",
       "\n",
       "    .dataframe thead th {\n",
       "        text-align: right;\n",
       "    }\n",
       "</style>\n",
       "<table border=\"1\" class=\"dataframe\">\n",
       "  <thead>\n",
       "    <tr style=\"text-align: right;\">\n",
       "      <th></th>\n",
       "      <th>review</th>\n",
       "      <th>cleaned_review</th>\n",
       "    </tr>\n",
       "  </thead>\n",
       "  <tbody>\n",
       "    <tr>\n",
       "      <th>0</th>\n",
       "      <td>One of the other reviewers has mentioned that ...</td>\n",
       "      <td>reviewers mentioned watching just 1 oz episode...</td>\n",
       "    </tr>\n",
       "    <tr>\n",
       "      <th>1</th>\n",
       "      <td>A wonderful little production. &lt;br /&gt;&lt;br /&gt;The...</td>\n",
       "      <td>wonderful little production. filming technique...</td>\n",
       "    </tr>\n",
       "    <tr>\n",
       "      <th>2</th>\n",
       "      <td>I thought this was a wonderful way to spend ti...</td>\n",
       "      <td>thought wonderful way spend time hot summer we...</td>\n",
       "    </tr>\n",
       "    <tr>\n",
       "      <th>3</th>\n",
       "      <td>Basically there's a family where a little boy ...</td>\n",
       "      <td>basically there's family little boy jake think...</td>\n",
       "    </tr>\n",
       "    <tr>\n",
       "      <th>4</th>\n",
       "      <td>Petter Mattei's \"Love in the Time of Money\" is...</td>\n",
       "      <td>petter mattei's \"love time money\" visually stu...</td>\n",
       "    </tr>\n",
       "  </tbody>\n",
       "</table>\n",
       "</div>"
      ],
      "text/plain": [
       "                                              review  \\\n",
       "0  One of the other reviewers has mentioned that ...   \n",
       "1  A wonderful little production. <br /><br />The...   \n",
       "2  I thought this was a wonderful way to spend ti...   \n",
       "3  Basically there's a family where a little boy ...   \n",
       "4  Petter Mattei's \"Love in the Time of Money\" is...   \n",
       "\n",
       "                                      cleaned_review  \n",
       "0  reviewers mentioned watching just 1 oz episode...  \n",
       "1  wonderful little production. filming technique...  \n",
       "2  thought wonderful way spend time hot summer we...  \n",
       "3  basically there's family little boy jake think...  \n",
       "4  petter mattei's \"love time money\" visually stu...  "
      ]
     },
     "execution_count": 16,
     "metadata": {},
     "output_type": "execute_result"
    }
   ],
   "source": [
    "df[['review', 'cleaned_review']].head(5)"
   ]
  },
  {
   "cell_type": "code",
   "execution_count": 17,
   "id": "945c7244-8f2a-41c0-bfc1-cf2415e7f3ca",
   "metadata": {},
   "outputs": [
    {
     "data": {
      "text/plain": [
       "Index(['review', 'sentiment', 'cleaned_review'], dtype='object')"
      ]
     },
     "execution_count": 17,
     "metadata": {},
     "output_type": "execute_result"
    }
   ],
   "source": [
    "df.columns"
   ]
  },
  {
   "cell_type": "code",
   "execution_count": 20,
   "id": "4cd20fa9-b78d-4493-8ea0-cd8df36784d3",
   "metadata": {},
   "outputs": [],
   "source": [
    "df[['cleaned_review', 'sentiment']].to_csv(\"IMDB_Cleaned_Reviews.csv\", index=False)"
   ]
  },
  {
   "cell_type": "code",
   "execution_count": 21,
   "id": "2057083b-b425-463e-b13a-6b1689c3030b",
   "metadata": {},
   "outputs": [],
   "source": [
    "df = pd.read_csv(\"IMDB_Cleaned_Reviews.csv\")\n"
   ]
  },
  {
   "cell_type": "code",
   "execution_count": 22,
   "id": "41e5b3b6-0d86-4c66-b3e3-242361122fe0",
   "metadata": {},
   "outputs": [],
   "source": [
    "df['cleaned_review'] = df['cleaned_review'].str.replace(r'[.,]', '', regex=True)\n"
   ]
  },
  {
   "cell_type": "code",
   "execution_count": 23,
   "id": "f817f463-11c6-444f-b8f2-415c4c149b73",
   "metadata": {},
   "outputs": [
    {
     "name": "stdout",
     "output_type": "stream",
     "text": [
      "                                      cleaned_review sentiment\n",
      "0  reviewers mentioned watching just 1 oz episode...  positive\n",
      "1  wonderful little production filming technique ...  positive\n",
      "2  thought wonderful way spend time hot summer we...  positive\n",
      "3  basically there's family little boy jake think...  negative\n",
      "4  petter mattei's \"love time money\" visually stu...  positive\n"
     ]
    }
   ],
   "source": [
    "print(df.head())"
   ]
  },
  {
   "cell_type": "code",
   "execution_count": 25,
   "id": "81b3c5b1-82e9-43d5-b004-d23660908d28",
   "metadata": {},
   "outputs": [],
   "source": [
    "df['cleaned_review'] = df['cleaned_review'].str.replace(r'[\"\\']', '', regex=True)\n"
   ]
  },
  {
   "cell_type": "code",
   "execution_count": 26,
   "id": "2a8efa35-e0cd-4d7e-96a8-c5b9f5d836fa",
   "metadata": {},
   "outputs": [
    {
     "name": "stdout",
     "output_type": "stream",
     "text": [
      "                                      cleaned_review sentiment\n",
      "0  reviewers mentioned watching just 1 oz episode...  positive\n",
      "1  wonderful little production filming technique ...  positive\n",
      "2  thought wonderful way spend time hot summer we...  positive\n",
      "3  basically theres family little boy jake thinks...  negative\n",
      "4  petter matteis love time money visually stunni...  positive\n"
     ]
    }
   ],
   "source": [
    "print(df.head())\n"
   ]
  },
  {
   "cell_type": "code",
   "execution_count": 27,
   "id": "8bd3c6e2-2681-4526-9b48-64716ac09160",
   "metadata": {},
   "outputs": [
    {
     "name": "stdout",
     "output_type": "stream",
     "text": [
      "                                       cleaned_review sentiment\n",
      "0   reviewers mentioned watching just 1 oz episode...  positive\n",
      "1   wonderful little production filming technique ...  positive\n",
      "2   thought wonderful way spend time hot summer we...  positive\n",
      "3   basically theres family little boy jake thinks...  negative\n",
      "4   petter matteis love time money visually stunni...  positive\n",
      "5   probably all-time favorite movie story selfles...  positive\n",
      "6   sure like resurrection dated seahunt series te...  positive\n",
      "7   amazing fresh & innovative idea 70s aired 7 8 ...  negative\n",
      "8   encouraged positive comments film looking forw...  negative\n",
      "9   like original gut wrenching laughter like movi...  positive\n",
      "10  phil alien quirky films humour based oddness a...  negative\n",
      "11  saw movie 12 came out recall scariest scene bi...  negative\n",
      "12  im big fan bolls work are enjoyed movie postal...  negative\n",
      "13  cast played shakespeare shakespeare lost appre...  negative\n",
      "14  fantastic movie prisoners famous actors george...  positive\n",
      "15  kind drawn erotic scenes realize amateurish un...  negative\n",
      "16  films just simply remade them bad film fails c...  positive\n",
      "17  movie 10 awful movies horrible wasnt continuou...  negative\n",
      "18  remember filmit film watched cinema picture da...  positive\n",
      "19  awful film! real stinkers nominated golden glo...  negative\n"
     ]
    }
   ],
   "source": [
    "print(df.head(20))"
   ]
  },
  {
   "cell_type": "code",
   "execution_count": 28,
   "id": "5c37eada-fb3c-406d-a2e7-6392fb268cb7",
   "metadata": {},
   "outputs": [],
   "source": [
    "df.to_csv(\"IMDB_Cleaned_Reviews.csv\", index=False)"
   ]
  },
  {
   "cell_type": "code",
   "execution_count": 29,
   "id": "3cd371e6-9d9b-4282-bf8a-ee29f1b13942",
   "metadata": {},
   "outputs": [],
   "source": [
    "df = pd.read_csv(\"IMDB_Cleaned_Reviews.csv\")"
   ]
  },
  {
   "cell_type": "code",
   "execution_count": 30,
   "id": "9817aace-d274-4fae-bff4-9c3f2fcff81e",
   "metadata": {},
   "outputs": [],
   "source": [
    "df['cleaned_review'] = df['cleaned_review'].str.replace(r'[><\\-,]', '', regex=True)"
   ]
  },
  {
   "cell_type": "code",
   "execution_count": 31,
   "id": "bdda7c5d-6542-427c-ace4-f98e43f21f0b",
   "metadata": {},
   "outputs": [],
   "source": [
    "df['cleaned_review'] = df['cleaned_review'].str.replace(r'[&-]', '', regex=True)"
   ]
  },
  {
   "cell_type": "code",
   "execution_count": 32,
   "id": "cfbecdff-c3be-4d75-803a-e6e5df11ec37",
   "metadata": {},
   "outputs": [],
   "source": [
    "df['cleaned_review'] = df['cleaned_review'].str.replace(r'\\?+', '?', regex=True)\n",
    "df['cleaned_review'] = df['cleaned_review'].str.replace(r'\\!+', '!', regex=True)"
   ]
  },
  {
   "cell_type": "code",
   "execution_count": 35,
   "id": "4fc9dddf-01ab-4d1e-b54d-384cbc16daf3",
   "metadata": {},
   "outputs": [],
   "source": [
    "df['cleaned_review'] = df['cleaned_review'].str.replace(r'[\\/\\-\\:;&`]', '', regex=True)"
   ]
  },
  {
   "cell_type": "code",
   "execution_count": 37,
   "id": "f17b4708-57ca-4df2-a155-e99fa5075dd8",
   "metadata": {},
   "outputs": [],
   "source": [
    "df.to_csv(\"IMDB_Cleaned_Reviews.csv\", index=False)"
   ]
  },
  {
   "cell_type": "code",
   "execution_count": 38,
   "id": "de83d996-1da9-41c6-8d84-5e0d5aaf5907",
   "metadata": {},
   "outputs": [],
   "source": [
    "df = pd.read_csv(\"IMDB_Cleaned_Reviews.csv\")\n"
   ]
  },
  {
   "cell_type": "code",
   "execution_count": 39,
   "id": "859f62bd-5b92-498c-8cc9-92523014df64",
   "metadata": {},
   "outputs": [
    {
     "name": "stdout",
     "output_type": "stream",
     "text": [
      "[('movie', 82543), ('film', 74134), ('like', 38569), ('just', 34614), ('its', 32833)]\n"
     ]
    }
   ],
   "source": [
    "from collections import Counter\n",
    "all_words =\" \".join(df['cleaned_review']).split()\n",
    "counter = Counter(all_words)\n",
    "print(counter.most_common(5))"
   ]
  },
  {
   "cell_type": "code",
   "execution_count": 40,
   "id": "18002ed6-6429-47de-b19f-f210457825b2",
   "metadata": {},
   "outputs": [
    {
     "data": {
      "text/plain": [
       "sentiment\n",
       "positive    24884\n",
       "negative    24698\n",
       "Name: count, dtype: int64"
      ]
     },
     "execution_count": 40,
     "metadata": {},
     "output_type": "execute_result"
    }
   ],
   "source": [
    "df['sentiment'].value_counts()"
   ]
  },
  {
   "cell_type": "code",
   "execution_count": 41,
   "id": "4ef75133-4035-4654-bb0c-47abd7e6d261",
   "metadata": {},
   "outputs": [],
   "source": [
    "df.to_csv(\"IMDB_Cleaned_Reviews.csv\", index=False)"
   ]
  },
  {
   "cell_type": "code",
   "execution_count": null,
   "id": "585604bb-e129-4dbc-bde4-e45954232112",
   "metadata": {},
   "outputs": [],
   "source": []
  }
 ],
 "metadata": {
  "kernelspec": {
   "display_name": "Python 3 (ipykernel)",
   "language": "python",
   "name": "python3"
  },
  "language_info": {
   "codemirror_mode": {
    "name": "ipython",
    "version": 3
   },
   "file_extension": ".py",
   "mimetype": "text/x-python",
   "name": "python",
   "nbconvert_exporter": "python",
   "pygments_lexer": "ipython3",
   "version": "3.13.7"
  }
 },
 "nbformat": 4,
 "nbformat_minor": 5
}
